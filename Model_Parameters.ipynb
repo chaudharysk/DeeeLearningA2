{
  "nbformat": 4,
  "nbformat_minor": 0,
  "metadata": {
    "colab": {
      "provenance": []
    },
    "kernelspec": {
      "name": "python3",
      "display_name": "Python 3"
    },
    "language_info": {
      "name": "python"
    }
  },
  "cells": [
    {
      "cell_type": "markdown",
      "source": [
        "# MobileNetV3"
      ],
      "metadata": {
        "id": "zebqOGfeWMys"
      }
    },
    {
      "cell_type": "code",
      "execution_count": null,
      "metadata": {
        "colab": {
          "base_uri": "https://localhost:8080/"
        },
        "id": "Ra4ZxFZDVRPd",
        "outputId": "ac991b1f-ba35-4d4d-9f91-ae573d294651"
      },
      "outputs": [
        {
          "output_type": "stream",
          "name": "stderr",
          "text": [
            "/usr/local/lib/python3.10/dist-packages/torchvision/models/_utils.py:208: UserWarning: The parameter 'pretrained' is deprecated since 0.13 and may be removed in the future, please use 'weights' instead.\n",
            "  warnings.warn(\n",
            "/usr/local/lib/python3.10/dist-packages/torchvision/models/_utils.py:223: UserWarning: Arguments other than a weight enum or `None` for 'weights' are deprecated since 0.13 and may be removed in the future. The current behavior is equivalent to passing `weights=None`.\n",
            "  warnings.warn(msg)\n"
          ]
        },
        {
          "output_type": "execute_result",
          "data": {
            "text/plain": [
              "1528106"
            ]
          },
          "metadata": {},
          "execution_count": 1
        }
      ],
      "source": [
        "import torch\n",
        "import torch.nn as nn\n",
        "from torchvision import models\n",
        "model = models.mobilenet_v3_small(pretrained=False)\n",
        "model.classifier[3] = nn.Linear(model.classifier[3].in_features, 10)\n",
        "device = torch.device(\"cuda\" if torch.cuda.is_available() else \"cpu\")\n",
        "model = model.to(device)\n",
        "num_params = sum(p.numel() for p in model.parameters())\n",
        "num_params"
      ]
    },
    {
      "cell_type": "markdown",
      "source": [
        "# RESNET"
      ],
      "metadata": {
        "id": "ddIkSI8WWpQz"
      }
    },
    {
      "cell_type": "code",
      "source": [
        "import torch\n",
        "import torch.nn as nn\n",
        "from torchvision import models\n",
        "model = models.resnet18(pretrained=False)\n",
        "model.fc = nn.Linear(model.fc.in_features, 10)\n",
        "device = torch.device(\"cuda\" if torch.cuda.is_available() else \"cpu\")\n",
        "model = model.to(device)\n",
        "num_params = sum(p.numel() for p in model.parameters())\n",
        "num_params"
      ],
      "metadata": {
        "colab": {
          "base_uri": "https://localhost:8080/"
        },
        "id": "8tA_F7a0WLop",
        "outputId": "a367f282-3532-4e84-b602-2d24a1341306"
      },
      "execution_count": null,
      "outputs": [
        {
          "output_type": "execute_result",
          "data": {
            "text/plain": [
              "11181642"
            ]
          },
          "metadata": {},
          "execution_count": 2
        }
      ]
    },
    {
      "cell_type": "markdown",
      "source": [
        "# ALEX NET"
      ],
      "metadata": {
        "id": "XwWcEEXkXal8"
      }
    },
    {
      "cell_type": "code",
      "source": [
        "import torch\n",
        "import torch.nn as nn\n",
        "from torchvision import models\n",
        "model = models.alexnet(pretrained=False)\n",
        "model.features[0] = nn.Conv2d(3, 64, kernel_size=3, stride=1, padding=1)\n",
        "model.classifier[6] = nn.Linear(model.classifier[6].in_features, 10)\n",
        "device = torch.device(\"cuda\" if torch.cuda.is_available() else \"cpu\")\n",
        "model = model.to(device)\n",
        "num_params = sum(p.numel() for p in model.parameters())\n",
        "num_params"
      ],
      "metadata": {
        "colab": {
          "base_uri": "https://localhost:8080/"
        },
        "id": "E6SXu5GYXS-e",
        "outputId": "e999ddbe-7d41-45eb-bc0f-61f0cbd9e5c6"
      },
      "execution_count": null,
      "outputs": [
        {
          "output_type": "execute_result",
          "data": {
            "text/plain": [
              "57023306"
            ]
          },
          "metadata": {},
          "execution_count": 3
        }
      ]
    },
    {
      "cell_type": "code",
      "source": [
        "import torch\n",
        "import torch.nn as nn\n",
        "import torch.nn.functional as F\n",
        "\n",
        "class CIFAR10ModifiedCNN(nn.Module):\n",
        "    def __init__(self, num_classes=10):\n",
        "        super(CIFAR10ModifiedCNN, self).__init__()\n",
        "        self.conv1 = nn.Conv2d(3, 32, kernel_size=3, padding=1)\n",
        "        self.bn1 = nn.BatchNorm2d(32)\n",
        "        self.conv2 = nn.Conv2d(32, 32, kernel_size=3, padding=1)\n",
        "        self.bn2 = nn.BatchNorm2d(32)\n",
        "        self.pool1 = nn.MaxPool2d(2, 2)\n",
        "        self.dropout1 = nn.Dropout(0.3)\n",
        "\n",
        "        self.conv3 = nn.Conv2d(32, 64, kernel_size=5, padding=2)  # 5x5 kernel\n",
        "        self.bn3 = nn.BatchNorm2d(64)\n",
        "        self.conv4 = nn.Conv2d(64, 64, kernel_size=3, padding=1)\n",
        "        self.bn4 = nn.BatchNorm2d(64)\n",
        "        self.pool2 = nn.MaxPool2d(2, 2)\n",
        "        self.dropout2 = nn.Dropout(0.3)\n",
        "\n",
        "        self.conv5 = nn.Conv2d(64, 128, kernel_size=5, padding=2)  # 5x5 kernel\n",
        "        self.bn5 = nn.BatchNorm2d(128)\n",
        "        self.conv6 = nn.Conv2d(128, 128, kernel_size=3, padding=1)\n",
        "        self.bn6 = nn.BatchNorm2d(128)\n",
        "        self.pool3 = nn.MaxPool2d(2, 2)\n",
        "        self.dropout3 = nn.Dropout(0.3)\n",
        "\n",
        "        self.fc1 = nn.Linear(128 * 4 * 4, 1024)\n",
        "        self.bn_fc1 = nn.BatchNorm1d(1024)\n",
        "        self.fc2 = nn.Linear(1024, 512)\n",
        "        self.bn_fc2 = nn.BatchNorm1d(512)\n",
        "        self.fc3 = nn.Linear(512, num_classes)\n",
        "\n",
        "        self.residual = nn.Conv2d(32, 128, kernel_size=1, stride=4, padding=0)\n",
        "\n",
        "    def mish(self, x):\n",
        "        return x * torch.tanh(F.softplus(x))\n",
        "\n",
        "    def forward(self, x):\n",
        "        x = self.mish(self.bn1(self.conv1(x)))\n",
        "        x = self.mish(self.bn2(self.conv2(x)))\n",
        "        x = self.pool1(x)\n",
        "        x = self.dropout1(x)\n",
        "\n",
        "        identity = self.residual(x)\n",
        "\n",
        "        x = self.mish(self.bn3(self.conv3(x)))\n",
        "        x = self.mish(self.bn4(self.conv4(x)))\n",
        "        x = self.pool2(x)\n",
        "        x = self.dropout2(x)\n",
        "\n",
        "        x = self.mish(self.bn5(self.conv5(x)))\n",
        "        x = self.mish(self.bn6(self.conv6(x)))\n",
        "        x = self.pool3(x)\n",
        "        x = self.dropout3(x)\n",
        "\n",
        "        x += identity\n",
        "\n",
        "        x = x.view(-1, 128 * 4 * 4)\n",
        "\n",
        "        x = self.mish(self.bn_fc1(self.fc1(x)))\n",
        "        x = self.mish(self.bn_fc2(self.fc2(x)))\n",
        "        x = self.fc3(x)\n",
        "\n",
        "        return x\n",
        "\n",
        "import torch\n",
        "import torch.nn as nn\n",
        "from torchvision import models\n",
        "\n",
        "model = CIFAR10ModifiedCNN(num_classes=10)\n",
        "device = torch.device(\"cuda\" if torch.cuda.is_available() else \"cpu\")\n",
        "model = model.to(device)\n",
        "num_params = sum(p.numel() for p in model.parameters())\n",
        "\n",
        "num_params"
      ],
      "metadata": {
        "colab": {
          "base_uri": "https://localhost:8080/"
        },
        "id": "bHGLp-pnXZ74",
        "outputId": "308d567c-803e-4845-ca7d-e3269c485a5d"
      },
      "execution_count": null,
      "outputs": [
        {
          "output_type": "execute_result",
          "data": {
            "text/plain": [
              "3087146"
            ]
          },
          "metadata": {},
          "execution_count": 4
        }
      ]
    }
  ]
}